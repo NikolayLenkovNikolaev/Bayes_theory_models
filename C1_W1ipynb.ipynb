{
  "nbformat": 4,
  "nbformat_minor": 0,
  "metadata": {
    "colab": {
      "provenance": [],
      "authorship_tag": "ABX9TyPjY2d6G/bZFtSXs40TOJQd",
      "include_colab_link": true
    },
    "kernelspec": {
      "name": "ir",
      "display_name": "R"
    },
    "language_info": {
      "name": "R"
    }
  },
  "cells": [
    {
      "cell_type": "markdown",
      "metadata": {
        "id": "view-in-github",
        "colab_type": "text"
      },
      "source": [
        "<a href=\"https://colab.research.google.com/github/NikolayLenkovNikolaev/Bayes_theory_models/blob/main/C1_W1ipynb.ipynb\" target=\"_parent\"><img src=\"https://colab.research.google.com/assets/colab-badge.svg\" alt=\"Open In Colab\"/></a>"
      ]
    },
    {
      "cell_type": "markdown",
      "source": [
        "# W1: Probability and Bayes' Theorem\n",
        "\n",
        "## 1.1 Classical and Frequentist probability\n",
        "\n",
        "\n",
        "$P(Y_1 > Y_2)$\n",
        "\n",
        "Classical framework - equality likaly - $P(X=4)= 1/6$ $P(X_1 + x_2= 4) = 3/36=1/12$\n",
        "\n",
        "Frequentist framework - relative frequency - $P(drop_packet)= 1/10000$ $P(fair)=[0,1]$\n",
        "\n",
        "Bayesian Framework -\n",
        "\n",
        "\n",
        "## 1.2. Bayesian probablity and coherence\n",
        "\n",
        "Bayesian framework - personal perspective -\n",
        "- if rain - win \\$4\n",
        "- if no rain - lose \\$1\n",
        "= $P(rain) = 1/(1+4)= 1/5$\n",
        "- exected retur: 4(1/5) - 1(4/5)= 0\n",
        "- 1(4/5)- 4(1/5)= 0\n",
        "\n",
        "**Coherance**: Probabilities must follow all the standard rules of probability, those that were defined in the supplementary material for this lecture. If you don't follow all the rules for probability, then you can be incoherent, which leads to a case for someone to construct a series of bets where you're guaranteed to lose money. This is referred to as Dutch book. If you do follow all the rules, and you follow the framework of Bayesian statistics, then you can be guaranteed to be coherent.\n"
      ],
      "metadata": {
        "id": "oChyHrD4tiFR"
      }
    },
    {
      "cell_type": "markdown",
      "source": [
        "## 2. Bayes' Theorem\n",
        "\n",
        "## 2.1. COnditional probability\n",
        "\n",
        "$P(A|B)= \\frac{P(A\\cap B)}{P(B)}$\n",
        "\n",
        "- 30 students\n",
        "- 9F\n",
        "- 12- CS of which 4F\n",
        "\n",
        "$P(F)= 9/30; P(CS)= 12/30$\n",
        "\n",
        "$P(F \\cap CS)4/30 $\n",
        "\n",
        "$P(F|CS)= \\frac{2/15}{2/5}= 1/3$\n",
        "\n",
        "$P(F|CS^c)= \\frac{5/30}{18/30}= 5/18$\n",
        "\n",
        "Independence:\n",
        "\n",
        "$P(A|B)= P(A)$\n",
        "- theb $P(A \\cap B)= P(A)P(B)$\n",
        "\n",
        "$P(F|CS) \\ne P(F)$ - not indepedent\n",
        "\n",
        "\n",
        "\n"
      ],
      "metadata": {
        "id": "617awP0StiIF"
      }
    },
    {
      "cell_type": "markdown",
      "source": [
        "## 2.2. Bayes' Theorem\n",
        "\n",
        "$P(A|B)= \\frac{P(B|A)P(A)}{P(B|A)P(A) + p(B|A^c)P(A^c)} = \\frac{P(A\\cap B)}{P(B)}$\n",
        "\n",
        "\n",
        "\n",
        "$P(CS|F)= \\frac{P(F|CS)P(CS)}{P(F|CS)P(CS) + P(F|CS^c)P(CS^c)}$\n",
        "\n",
        "$\\frac{(1/3).(2/5)}{1/3.2/5 + 5/18.3/5}= 4/9$\n",
        "\n",
        "$P(CS/F) = \\frac{P*CS \\cap F(}{P(F)}= \\frac{4/30}{9/30}=4/9$\n",
        "\n"
      ],
      "metadata": {
        "id": "CdUkjjegtiKh"
      }
    },
    {
      "cell_type": "markdown",
      "source": [
        "Ex2:\n",
        "\n",
        "$P(+|HIV)= 0.977$\n",
        "\n",
        "$P(-|noHIV)= 0.926$\n",
        "\n",
        "$P(HIV)= 0.0026$\n",
        "\n",
        "$P(HIV|+) = \\frac{P(+|HIV)P(HIV)}{P(+|HIV)P(HIV) + P(+|noHIV)P(noHIV)}$\n",
        "\n",
        "$\\frac{0.9777.0.0026}{0.977.0.0026 + (1-.926)(1-0.0026)}= 0.033$\n",
        "\n",
        "\n",
        "\n"
      ],
      "metadata": {
        "id": "F8qDgMhEtiM_"
      }
    },
    {
      "cell_type": "markdown",
      "source": [
        "## 3. Review of Distributions\n",
        "\n",
        "## 3.1. Bernoulli and binomial distributions\n",
        "\n",
        "$Bernoulli= X \\sim(p)$\n",
        "- $P(X=1)=p$\n",
        "- $P(X=0)= 1-p$\n",
        "\n",
        "$f(X=x|p) = f(X|p)= p^x (1-p)^{1-x} I_{\\{ x \\in 0,1 \\}} (x)$\n",
        "\n",
        "\n",
        "Expected Value: $E[X] = \\sum_x xP(X=x)= 1(p)+ (0)(1-p)= p$\n",
        "\n",
        "Variance $Var[X] = p(1-p) $\n",
        "\n",
        "\n",
        "Binomial\n",
        "\n",
        "$X \\sim Bin(n,p)$\n",
        "\n",
        "$P(X=x|p)= f(x|p) = \\binom{n}{x} p^x (1-p)^{n-x}$\n",
        "\n",
        "$\\binom{n}{x} \\frac{n!}{x!(n-x)!}$ for #x \\in (0,1...n)$\n",
        "\n",
        "$E[X] = np$\n",
        "\n",
        "$Var[X] = np(1-p)$\n",
        "\n",
        "- multinomial Poisson distrribution\n",
        "\n",
        "\n"
      ],
      "metadata": {
        "id": "WFlTMMWAtiPV"
      }
    },
    {
      "cell_type": "markdown",
      "source": [
        "## 3.2. Uniform distribution:\n",
        "\n",
        "$X \\sim U[0,1]$\n",
        "\n",
        "$f(x)$\n",
        "- $1$ if $x \\in [0,1]$\n",
        "- 0 - otherwise\n",
        "\n",
        "$= I_{(0 \\leq x \\leq 1)} (x)$\n",
        "\n",
        "$P(0<x <1/2) = \\int_0^{1\\2} f(x)dx = \\int_0^{1/2}dx = 1/2$\n",
        "\n",
        "$P(0<x \\leq 1/2) = \\int_0^{1\\2} f(x)dx = \\int_0^{1/2}dx = 1/2$\n",
        "\n",
        "$P(x=1/2)= 0$\n",
        "\n",
        "Key rules for prob.functions:\n",
        "1. $\\int_{-\\infty}^{\\infty} f(x) dx= 1; f(x)= 1$\n",
        "2. $E[X] = \\int_{-\\infty}^{\\infty} f(x) dx$\n",
        "3. $E[g(X)] = \\int g(x) f(x) dx$\n",
        "4. $E[cX]= xE[X]$\n",
        "5. $E[X+Y]= E[X] + E[Y]$ if $X \\bot Y$ then $E[XY]= E[X]E[Y]$\n",
        "\n",
        "\n",
        "\n"
      ],
      "metadata": {
        "id": "R6rpyLOWtiRf"
      }
    },
    {
      "cell_type": "markdown",
      "source": [],
      "metadata": {
        "id": "z6btOpGTtiUF"
      }
    },
    {
      "cell_type": "markdown",
      "source": [
        "## 3.3. Exponential distribution\n",
        "Exponential:\n",
        "\n",
        "$X \\sim Exp(\\lambda)$\n",
        "\n",
        "$f(x|\\lambda) = \\lambda.x^{-\\lambda x}$ for $x \\geq 0$\n",
        "\n",
        "$E[X]= 1/\\lambda$\n",
        "\n",
        "$Var(X) = 1/\\lambda^2$\n",
        "\n",
        "\n",
        "Uniform distribution:\n",
        "\n",
        "$X \\sim[\\theta_1;\\theta_2]$\n",
        "\n",
        "$f(x|\\theta_1,\\theta_2)= \\frac{1}{\\theta_2-\\theta_1} I_{(\\theta_1 \\leq x \\leq \\theta_2)} (x) $\n",
        "\n",
        "Normal distribution:\n",
        "\n",
        "$X \\sim N(\\mu, \\sigma^2)$\n",
        "\n",
        "$f(x|\\mu, \\sigma^2) = \\frac{1}{\\sqrt{2\\pi \\sigma^2}}exp[-\\frac{1}{2\\sigma^2}(x-\\mu)^2]$\n",
        "\n",
        "$E[X]= \\mu, Var[X]=\\sigma^2$\n"
      ],
      "metadata": {
        "id": "eScfIThRtiWR"
      }
    },
    {
      "cell_type": "markdown",
      "source": [
        "\\frac{}{}"
      ],
      "metadata": {
        "id": "4-8ErSG1tiYX"
      }
    },
    {
      "cell_type": "markdown",
      "source": [],
      "metadata": {
        "id": "EfMKWS9ctibE"
      }
    },
    {
      "cell_type": "markdown",
      "source": [],
      "metadata": {
        "id": "BYkfEUN4tidK"
      }
    },
    {
      "cell_type": "markdown",
      "source": [],
      "metadata": {
        "id": "yj6m-3FntifF"
      }
    },
    {
      "cell_type": "markdown",
      "source": [],
      "metadata": {
        "id": "EIUVzLeLtihb"
      }
    },
    {
      "cell_type": "markdown",
      "source": [],
      "metadata": {
        "id": "CtosB2Pgtik1"
      }
    },
    {
      "cell_type": "code",
      "source": [
        "install.packages"
      ],
      "metadata": {
        "id": "veyy6DXKtayP"
      },
      "execution_count": null,
      "outputs": []
    }
  ]
}