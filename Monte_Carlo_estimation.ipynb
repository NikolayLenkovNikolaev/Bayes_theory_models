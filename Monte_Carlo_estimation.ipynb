{
  "nbformat": 4,
  "nbformat_minor": 0,
  "metadata": {
    "colab": {
      "provenance": [],
      "authorship_tag": "ABX9TyPmbQg0lamF+2DQITUcx+Rd",
      "include_colab_link": true
    },
    "kernelspec": {
      "name": "ir",
      "display_name": "R"
    },
    "language_info": {
      "name": "R"
    }
  },
  "cells": [
    {
      "cell_type": "markdown",
      "metadata": {
        "id": "view-in-github",
        "colab_type": "text"
      },
      "source": [
        "<a href=\"https://colab.research.google.com/github/NikolayLenkovNikolaev/Bayes_theory_models/blob/main/Monte_Carlo_estimation.ipynb\" target=\"_parent\"><img src=\"https://colab.research.google.com/assets/colab-badge.svg\" alt=\"Open In Colab\"/></a>"
      ]
    },
    {
      "cell_type": "markdown",
      "source": [
        "# Monte Carlo estimation:\n",
        "\n",
        "## 1. Sumulation and CLT\n",
        "\n",
        "Monte Carlo estyimation refers to simulationg hypothethical draws from a probability distribution in order to calculate important quantities. These quantitites might include the mean, the variance, the probability of some event, or quantiles of the distribution. All of these calculations involve integration, which except for the simplest distributions, can be very dificult or impossible.\n",
        "\n",
        "Suppose we have a random variable $\\theta$ that follows a Gamma(a,b) distribution. Let is say a =2 and b =1/3 , where b is the rate parameter. To calculate the mean of this distribution, we could need to compute the following integral.\n",
        "\n",
        "\n",
        "$$E(\\theta) = \\int_0^{\\infty} \\theta f(\\theta) d\\theta = \\int_0^{∞} \\theta \\frac{b^a}{\\Gamma(a)}\\theta^{1-1} e^{-b\\theta}d\\theta$$\n",
        "\n",
        "It is possible to compute this integral , and the answer is a/b =6 in this case. However, we could verity this answer through Monte Carlo estimation. To do so, we would simulate a large number of draws (call then $\\theta_i^*$ fori=1,..,m) from this gamma distribution and calculate their sample mean.\n",
        "\n",
        "Why can we do this? If we have a random sample from a disribution, the average of this samples converfes in probaility to the true mean of that distribution by the Law of Large Numbers. Furthermoree, by the Cental Limit Theorem (CLT) , this sample mean $\\bar{\\theta}^* = \\frac{1}{m} \\sum_{i=1}^m \\theta_i^*$ approximately follows a normal distribution with mean $E[\\theta]$ and $Var[\\theta]/m$. The theorical variance of $\\theta$ is the following integral:\n",
        "\n",
        "$$Var[\\theta] = \\int_0^{\\infty} (\\theta - E[\\theta])^2 f(\\theta)d\\theta$$\n",
        "\n",
        "just like we didi the mean, we could epproximate this variance with the sample variance $\\frac{1}{m} \\sum_{i=1}^m (\\theta_i^* - \\bar{\\theta^*})^2$\n"
      ],
      "metadata": {
        "id": "wS7F3xsGDyLb"
      }
    },
    {
      "cell_type": "markdown",
      "source": [
        "## 2.cCalculating probabilitues:\n",
        "\n",
        "This method can be used to calculate many diffferent integrals. Say $h(\\theta)$ is any function and we want to calculate $\\int h(\\theta)p(\\theta)d\\theta$. This integral is precisely what is mean by $E[h(\\theta)]$, so we can conveniently approximate it by taking the sample mean of $h(\\theta_i^*)$. That is, we appluy the function h to each simulated sample from the distribution, and take the average of all the results.\n",
        "\n",
        "So what does this mean? It means we can approximate the probability that $\\theta <5$ by drawing many samples $\\theta_i^*$, and approximating this integral with $\\frac{1}{m} \\sum_{i=1}^m I_{\\theta^* <5}(\\theta_i^*)$. This expression is ismply counting how many samples come out to be less than 5, adn dividing by the total number of simulated samples. That is convenient!\n",
        "\n",
        "Lokewise, we can approximate quantiles of a distribution. If we are looking for the value x such that $P(\\theta <z)=0.9$, xw simply arrange the samples $\\theta_i^*$ in ascending order and find the smallest drawn value that is greater than 90% of the others/"
      ],
      "metadata": {
        "id": "hPllBAdZDyOG"
      }
    },
    {
      "cell_type": "markdown",
      "source": [
        "## Monte Carlo Error:\n",
        "\n",
        "How good is an approximation by MC sampling? Again we can turn to the CLT, which tells us that the vairance of our estimate is controlled in part by m. For a better estimate, we want larger $m$.\n",
        "\n",
        "For example, if we seek $E[\\theta]$, that the sample mean $\\bar{\\theta^*}$ approximately follows a normal distribution with mean $E[\\theta]$ and Variance $Var[\\theta]/m$. The variance tells us how far our estimate might be from the true value. One way to approximate $Var[\\theta]$ is to replacve it with the sample variance. The standard deviation of our Monte Carlo estimate is the square root of that , or the sample standard deviation devided by $\\sqrt{m}$. If $m$ is large, it is reasonable to assume that the true value will likely be within about two standard deviations of your MC estimate.\n",
        "\n",
        "\n"
      ],
      "metadata": {
        "id": "8XMT-61bDyQ8"
      }
    },
    {
      "cell_type": "markdown",
      "source": [
        "## Marginalization:\n",
        "\n",
        "We can also obtain MC samples from hierarchical models. As a simple example, let is consider a binomial random variable where $y|\\phi \\sim Bin(10, \\phi)$ and further suppose $\\phi$ is a random (as if it had prior) and is distributted beta $\\phi \\sim Beta(2,2)$. Given any hierarchical model, we can always write the joint distribution of $y$ and $\\phi$ as $p(y, \\phi)= p(y|\\phi)p(\\phi)$ using the chain rule of probability. To simulate from this join distribution, reapeat these steps for a large number $m$.\n",
        "1. Simulate $\\phi_i^*$ from Beta(2,2) distrribution\n",
        "2. Given the drawn $\\phi^*$ simulate $y_i^*$ form Bin(10, \\phi_i^*)\n",
        "\n",
        "This will produce m independent pairs $(y^*, \\phi^*)_i$ drawn from their joint distribution. One major advantage of MC simulation is that marginalizing is easy. Calculating the marginal distribution of $y, p(y)= \\int_0^1 p(y, \\phi)d\\phi$, might be challenging. But if we draws from the joint distribution, we can just discard the $\\phi_i^*$ draws and use the $y_i^*$ as samples from their marginal distribution. This is also called the prior predictive distribution introduced in the previous course.\n",
        "\n",
        "In the next segment, we wqill demonstrate some of these principles. Remember , we do not know how sample from fhe complicated posterior distribution introduced in the previous lesson. But once we learn that, we will be able to use principles from this lesson to make approximate inferences from those posterior distributions.\n",
        "\n"
      ],
      "metadata": {
        "id": "nSm7PwGJDyTp"
      }
    },
    {
      "cell_type": "markdown",
      "source": [
        "## Example: CLT\n",
        "\n",
        "MC simulation from the most common distributions is very straighforward in R.\n",
        "\n",
        "Let's start with the example from the previous segment, whre $\\theta \\sim Gammma(a,b)$, with a=2, b =1/3, This could represent the posterior distribution of $\\theta$ if our data came from a Poisson distribution with mean $\\theta$ and we had used conjugate gamma prior. Let's start with m=100."
      ],
      "metadata": {
        "id": "CuRzkkDPDyWF"
      }
    },
    {
      "cell_type": "code",
      "source": [
        "set.seed(32) # intitializes the random number generator so we can replicate these results. to get different random numbers c hange the seed\n",
        "m = 100\n",
        "a=2\n",
        "b=1/3"
      ],
      "metadata": {
        "id": "CaU5cYNFLPw_"
      },
      "execution_count": 3,
      "outputs": []
    },
    {
      "cell_type": "markdown",
      "source": [],
      "metadata": {
        "id": "XGmkoilmDybQ"
      }
    },
    {
      "cell_type": "code",
      "source": [
        "theta = rgamma(n=m, shape=a, rate=b)"
      ],
      "metadata": {
        "id": "_fJiCPlbLlWt"
      },
      "execution_count": 4,
      "outputs": []
    },
    {
      "cell_type": "code",
      "source": [
        "theta"
      ],
      "metadata": {
        "colab": {
          "base_uri": "https://localhost:8080/",
          "height": 156
        },
        "id": "hEAxWdGPL7eF",
        "outputId": "a73aafe6-9aaf-4a5e-9569-3d14023e06e1"
      },
      "execution_count": 7,
      "outputs": [
        {
          "output_type": "display_data",
          "data": {
            "text/html": [
              "<style>\n",
              ".list-inline {list-style: none; margin:0; padding: 0}\n",
              ".list-inline>li {display: inline-block}\n",
              ".list-inline>li:not(:last-child)::after {content: \"\\00b7\"; padding: 0 .5ex}\n",
              "</style>\n",
              "<ol class=list-inline><li>4.55395354018726</li><li>8.28064247452279</li><li>1.51558952765045</li><li>9.16026768912478</li><li>3.5078593370495</li><li>5.60697381232374</li><li>2.49846248174028</li><li>3.78422125572963</li><li>6.41559215394762</li><li>4.13975922952132</li><li>15.4991608176792</li><li>4.65952577623035</li><li>5.60318044743597</li><li>8.58131005993237</li><li>8.6586811488982</li><li>7.59681909453291</li><li>1.48268145156413</li><li>3.49466178233138</li><li>4.8308749098032</li><li>2.12797100422495</li><li>7.63119344011836</li><li>8.32362682837245</li><li>6.65202709831111</li><li>9.33448117280463</li><li>6.33927227232792</li><li>4.79935855088545</li><li>4.80859003975888</li><li>1.73759270638782</li><li>9.35553668038141</li><li>9.35889229491967</li><li>2.93110102031695</li><li>2.52412644470987</li><li>3.60461013950396</li><li>5.98328048881991</li><li>3.81288997310631</li><li>7.97815883433275</li><li>7.0784262463726</li><li>6.98904262153339</li><li>1.33349734494129</li><li>3.83431417369519</li><li>2.154208156616</li><li>13.1452039657241</li><li>1.98426720634389</li><li>4.97450381806293</li><li>1.73035242311787</li><li>4.5042310146377</li><li>5.5043305147018</li><li>4.2154852645168</li><li>1.32516948389033</li><li>12.5956478465262</li><li>13.4595526803929</li><li>4.4873494350239</li><li>3.28523882348897</li><li>2.23754930163388</li><li>5.82529102614743</li><li>3.12825824287977</li><li>6.62835652969516</li><li>14.1205969858369</li><li>6.79662791308094</li><li>5.55158033276794</li><li>4.96971107360772</li><li>13.4813892946236</li><li>8.04514234252815</li><li>2.15022026059362</li><li>18.4230435207007</li><li>5.41971771043939</li><li>2.13019296830119</li><li>2.85351194212005</li><li>0.940853268738859</li><li>4.88455275974808</li><li>2.72461246949116</li><li>6.64855713331607</li><li>2.89525453332752</li><li>5.41699309370938</li><li>2.40502288017057</li><li>7.00229030645607</li><li>2.79731676407342</li><li>4.47587047746533</li><li>10.5152279946066</li><li>2.48643376476032</li><li>9.98572907273456</li><li>1.317757171607</li><li>10.9877765976428</li><li>2.67920755857699</li><li>1.47502544198657</li><li>1.75546020221899</li><li>8.43465490256488</li><li>2.34895657981905</li><li>1.42712204523523</li><li>3.66714171715399</li><li>7.35839023789942</li><li>3.62960280746001</li><li>3.94769536660252</li><li>11.3247542935799</li><li>2.43240324117403</li><li>7.14844348120615</li><li>2.7157060175061</li><li>2.76369100936716</li><li>5.41367671000443</li><li>5.86564080280019</li></ol>\n"
            ],
            "text/markdown": "1. 4.55395354018726\n2. 8.28064247452279\n3. 1.51558952765045\n4. 9.16026768912478\n5. 3.5078593370495\n6. 5.60697381232374\n7. 2.49846248174028\n8. 3.78422125572963\n9. 6.41559215394762\n10. 4.13975922952132\n11. 15.4991608176792\n12. 4.65952577623035\n13. 5.60318044743597\n14. 8.58131005993237\n15. 8.6586811488982\n16. 7.59681909453291\n17. 1.48268145156413\n18. 3.49466178233138\n19. 4.8308749098032\n20. 2.12797100422495\n21. 7.63119344011836\n22. 8.32362682837245\n23. 6.65202709831111\n24. 9.33448117280463\n25. 6.33927227232792\n26. 4.79935855088545\n27. 4.80859003975888\n28. 1.73759270638782\n29. 9.35553668038141\n30. 9.35889229491967\n31. 2.93110102031695\n32. 2.52412644470987\n33. 3.60461013950396\n34. 5.98328048881991\n35. 3.81288997310631\n36. 7.97815883433275\n37. 7.0784262463726\n38. 6.98904262153339\n39. 1.33349734494129\n40. 3.83431417369519\n41. 2.154208156616\n42. 13.1452039657241\n43. 1.98426720634389\n44. 4.97450381806293\n45. 1.73035242311787\n46. 4.5042310146377\n47. 5.5043305147018\n48. 4.2154852645168\n49. 1.32516948389033\n50. 12.5956478465262\n51. 13.4595526803929\n52. 4.4873494350239\n53. 3.28523882348897\n54. 2.23754930163388\n55. 5.82529102614743\n56. 3.12825824287977\n57. 6.62835652969516\n58. 14.1205969858369\n59. 6.79662791308094\n60. 5.55158033276794\n61. 4.96971107360772\n62. 13.4813892946236\n63. 8.04514234252815\n64. 2.15022026059362\n65. 18.4230435207007\n66. 5.41971771043939\n67. 2.13019296830119\n68. 2.85351194212005\n69. 0.940853268738859\n70. 4.88455275974808\n71. 2.72461246949116\n72. 6.64855713331607\n73. 2.89525453332752\n74. 5.41699309370938\n75. 2.40502288017057\n76. 7.00229030645607\n77. 2.79731676407342\n78. 4.47587047746533\n79. 10.5152279946066\n80. 2.48643376476032\n81. 9.98572907273456\n82. 1.317757171607\n83. 10.9877765976428\n84. 2.67920755857699\n85. 1.47502544198657\n86. 1.75546020221899\n87. 8.43465490256488\n88. 2.34895657981905\n89. 1.42712204523523\n90. 3.66714171715399\n91. 7.35839023789942\n92. 3.62960280746001\n93. 3.94769536660252\n94. 11.3247542935799\n95. 2.43240324117403\n96. 7.14844348120615\n97. 2.7157060175061\n98. 2.76369100936716\n99. 5.41367671000443\n100. 5.86564080280019\n\n\n",
            "text/latex": "\\begin{enumerate*}\n\\item 4.55395354018726\n\\item 8.28064247452279\n\\item 1.51558952765045\n\\item 9.16026768912478\n\\item 3.5078593370495\n\\item 5.60697381232374\n\\item 2.49846248174028\n\\item 3.78422125572963\n\\item 6.41559215394762\n\\item 4.13975922952132\n\\item 15.4991608176792\n\\item 4.65952577623035\n\\item 5.60318044743597\n\\item 8.58131005993237\n\\item 8.6586811488982\n\\item 7.59681909453291\n\\item 1.48268145156413\n\\item 3.49466178233138\n\\item 4.8308749098032\n\\item 2.12797100422495\n\\item 7.63119344011836\n\\item 8.32362682837245\n\\item 6.65202709831111\n\\item 9.33448117280463\n\\item 6.33927227232792\n\\item 4.79935855088545\n\\item 4.80859003975888\n\\item 1.73759270638782\n\\item 9.35553668038141\n\\item 9.35889229491967\n\\item 2.93110102031695\n\\item 2.52412644470987\n\\item 3.60461013950396\n\\item 5.98328048881991\n\\item 3.81288997310631\n\\item 7.97815883433275\n\\item 7.0784262463726\n\\item 6.98904262153339\n\\item 1.33349734494129\n\\item 3.83431417369519\n\\item 2.154208156616\n\\item 13.1452039657241\n\\item 1.98426720634389\n\\item 4.97450381806293\n\\item 1.73035242311787\n\\item 4.5042310146377\n\\item 5.5043305147018\n\\item 4.2154852645168\n\\item 1.32516948389033\n\\item 12.5956478465262\n\\item 13.4595526803929\n\\item 4.4873494350239\n\\item 3.28523882348897\n\\item 2.23754930163388\n\\item 5.82529102614743\n\\item 3.12825824287977\n\\item 6.62835652969516\n\\item 14.1205969858369\n\\item 6.79662791308094\n\\item 5.55158033276794\n\\item 4.96971107360772\n\\item 13.4813892946236\n\\item 8.04514234252815\n\\item 2.15022026059362\n\\item 18.4230435207007\n\\item 5.41971771043939\n\\item 2.13019296830119\n\\item 2.85351194212005\n\\item 0.940853268738859\n\\item 4.88455275974808\n\\item 2.72461246949116\n\\item 6.64855713331607\n\\item 2.89525453332752\n\\item 5.41699309370938\n\\item 2.40502288017057\n\\item 7.00229030645607\n\\item 2.79731676407342\n\\item 4.47587047746533\n\\item 10.5152279946066\n\\item 2.48643376476032\n\\item 9.98572907273456\n\\item 1.317757171607\n\\item 10.9877765976428\n\\item 2.67920755857699\n\\item 1.47502544198657\n\\item 1.75546020221899\n\\item 8.43465490256488\n\\item 2.34895657981905\n\\item 1.42712204523523\n\\item 3.66714171715399\n\\item 7.35839023789942\n\\item 3.62960280746001\n\\item 3.94769536660252\n\\item 11.3247542935799\n\\item 2.43240324117403\n\\item 7.14844348120615\n\\item 2.7157060175061\n\\item 2.76369100936716\n\\item 5.41367671000443\n\\item 5.86564080280019\n\\end{enumerate*}\n",
            "text/plain": [
              "  [1]  4.5539535  8.2806425  1.5155895  9.1602677  3.5078593  5.6069738\n",
              "  [7]  2.4984625  3.7842213  6.4155922  4.1397592 15.4991608  4.6595258\n",
              " [13]  5.6031804  8.5813101  8.6586811  7.5968191  1.4826815  3.4946618\n",
              " [19]  4.8308749  2.1279710  7.6311934  8.3236268  6.6520271  9.3344812\n",
              " [25]  6.3392723  4.7993586  4.8085900  1.7375927  9.3555367  9.3588923\n",
              " [31]  2.9311010  2.5241264  3.6046101  5.9832805  3.8128900  7.9781588\n",
              " [37]  7.0784262  6.9890426  1.3334973  3.8343142  2.1542082 13.1452040\n",
              " [43]  1.9842672  4.9745038  1.7303524  4.5042310  5.5043305  4.2154853\n",
              " [49]  1.3251695 12.5956478 13.4595527  4.4873494  3.2852388  2.2375493\n",
              " [55]  5.8252910  3.1282582  6.6283565 14.1205970  6.7966279  5.5515803\n",
              " [61]  4.9697111 13.4813893  8.0451423  2.1502203 18.4230435  5.4197177\n",
              " [67]  2.1301930  2.8535119  0.9408533  4.8845528  2.7246125  6.6485571\n",
              " [73]  2.8952545  5.4169931  2.4050229  7.0022903  2.7973168  4.4758705\n",
              " [79] 10.5152280  2.4864338  9.9857291  1.3177572 10.9877766  2.6792076\n",
              " [85]  1.4750254  1.7554602  8.4346549  2.3489566  1.4271220  3.6671417\n",
              " [91]  7.3583902  3.6296028  3.9476954 11.3247543  2.4324032  7.1484435\n",
              " [97]  2.7157060  2.7636910  5.4136767  5.8656408"
            ]
          },
          "metadata": {}
        }
      ]
    },
    {
      "cell_type": "code",
      "source": [
        "hist(theta, freq=FALSE)\n",
        "curve(dgamma(x=x, shape=a, rate=b), col=\"blue\", add=TRUE)"
      ],
      "metadata": {
        "colab": {
          "base_uri": "https://localhost:8080/",
          "height": 437
        },
        "id": "_Tt007DpLlZc",
        "outputId": "1c6fbdde-ae2a-4ab5-ae1e-e636ff7318e4"
      },
      "execution_count": 5,
      "outputs": [
        {
          "output_type": "display_data",
          "data": {
            "text/plain": [
              "Plot with title “Histogram of theta”"
            ],
            "image/png": "[encoded data removed]"
          },
          "metadata": {
            "image/png": {
              "width": 420,
              "height": 420
            }
          }
        }
      ]
    },
    {
      "cell_type": "markdown",
      "source": [
        "To find our MC approximation to $E[\\theta]$, let's take the average of our sample (and compare it with the true)."
      ],
      "metadata": {
        "id": "nkzSciIlLuaI"
      }
    },
    {
      "cell_type": "code",
      "source": [
        "sum(theta) / m # sample mean"
      ],
      "metadata": {
        "colab": {
          "base_uri": "https://localhost:8080/",
          "height": 34
        },
        "id": "15HADRKBLlc-",
        "outputId": "006e8b36-a6b0-48b1-e558-f18493c70dfb"
      },
      "execution_count": 10,
      "outputs": [
        {
          "output_type": "display_data",
          "data": {
            "text/html": [
              "5.51406757147033"
            ],
            "text/markdown": "5.51406757147033",
            "text/latex": "5.51406757147033",
            "text/plain": [
              "[1] 5.514068"
            ]
          },
          "metadata": {}
        }
      ]
    },
    {
      "cell_type": "code",
      "source": [
        "mean(theta) # sample mean"
      ],
      "metadata": {
        "colab": {
          "base_uri": "https://localhost:8080/",
          "height": 34
        },
        "id": "idXMaQbyL5gt",
        "outputId": "0fd876b2-81f1-4aa9-b9f8-7f2dbb1f7bbf"
      },
      "execution_count": 11,
      "outputs": [
        {
          "output_type": "display_data",
          "data": {
            "text/html": [
              "5.51406757147033"
            ],
            "text/markdown": "5.51406757147033",
            "text/latex": "5.51406757147033",
            "text/plain": [
              "[1] 5.514068"
            ]
          },
          "metadata": {}
        }
      ]
    },
    {
      "cell_type": "code",
      "source": [
        "a / b # true expected value"
      ],
      "metadata": {
        "colab": {
          "base_uri": "https://localhost:8080/",
          "height": 34
        },
        "id": "fnZl8uQ-MAqE",
        "outputId": "c2a64261-0a41-4633-9327-9c8cd55238ca"
      },
      "execution_count": 12,
      "outputs": [
        {
          "output_type": "display_data",
          "data": {
            "text/html": [
              "6"
            ],
            "text/markdown": "6",
            "text/latex": "6",
            "text/plain": [
              "[1] 6"
            ]
          },
          "metadata": {}
        }
      ]
    },
    {
      "cell_type": "markdown",
      "source": [
        "If we increase m = 10 000"
      ],
      "metadata": {
        "id": "vPZTK_urMJer"
      }
    },
    {
      "cell_type": "code",
      "source": [
        "m = 1e4\n",
        "theta = rgamma(n=m, shape=a, rate=b)\n",
        "mean(theta)"
      ],
      "metadata": {
        "colab": {
          "base_uri": "https://localhost:8080/",
          "height": 34
        },
        "id": "7Nrch3bRMGIU",
        "outputId": "11613f9e-908c-4fa0-b747-0cd389d1a390"
      },
      "execution_count": 13,
      "outputs": [
        {
          "output_type": "display_data",
          "data": {
            "text/html": [
              "6.02327323581414"
            ],
            "text/markdown": "6.02327323581414",
            "text/latex": "6.02327323581414",
            "text/plain": [
              "[1] 6.023273"
            ]
          },
          "metadata": {}
        }
      ]
    },
    {
      "cell_type": "markdown",
      "source": [
        "How about the variance of $\\theta$?"
      ],
      "metadata": {
        "id": "NLCj6tAAMPc6"
      }
    },
    {
      "cell_type": "code",
      "source": [
        "var(theta) # sample variance"
      ],
      "metadata": {
        "colab": {
          "base_uri": "https://localhost:8080/",
          "height": 34
        },
        "id": "jUBXU9NhMN3E",
        "outputId": "6f71d89d-155d-4242-fe22-68a859153ce6"
      },
      "execution_count": 14,
      "outputs": [
        {
          "output_type": "display_data",
          "data": {
            "text/html": [
              "18.0431830080327"
            ],
            "text/markdown": "18.0431830080327",
            "text/latex": "18.0431830080327",
            "text/plain": [
              "[1] 18.04318"
            ]
          },
          "metadata": {}
        }
      ]
    },
    {
      "cell_type": "code",
      "source": [
        "a / b^2 # true variance of Gamma(a,b)"
      ],
      "metadata": {
        "colab": {
          "base_uri": "https://localhost:8080/",
          "height": 34
        },
        "id": "feo04Q6DMU8c",
        "outputId": "385fb773-4f3d-4f00-f8cf-bba26b47e3b5"
      },
      "execution_count": 15,
      "outputs": [
        {
          "output_type": "display_data",
          "data": {
            "text/html": [
              "18"
            ],
            "text/markdown": "18",
            "text/latex": "18",
            "text/plain": [
              "[1] 18"
            ]
          },
          "metadata": {}
        }
      ]
    },
    {
      "cell_type": "markdown",
      "source": [
        "We can also approximate the probability that $\\theta < 5$"
      ],
      "metadata": {
        "id": "rMatYTUCMY-m"
      }
    },
    {
      "cell_type": "code",
      "source": [
        "ind = theta < 5.0 # set of indicators, TRUE if theta_i < 5\n",
        "mean(ind) # automatically converts FALSE/TRUE to 0/1"
      ],
      "metadata": {
        "colab": {
          "base_uri": "https://localhost:8080/",
          "height": 34
        },
        "id": "z9klwcJTMWr0",
        "outputId": "f7935b21-9d0a-4220-be9f-a4142d987ac1"
      },
      "execution_count": 16,
      "outputs": [
        {
          "output_type": "display_data",
          "data": {
            "text/html": [
              "0.497"
            ],
            "text/markdown": "0.497",
            "text/latex": "0.497",
            "text/plain": [
              "[1] 0.497"
            ]
          },
          "metadata": {}
        }
      ]
    },
    {
      "cell_type": "code",
      "source": [
        "pgamma(q=5.0, shape=a, rate=b) # true value of Pr( theta < 5 )"
      ],
      "metadata": {
        "colab": {
          "base_uri": "https://localhost:8080/",
          "height": 34
        },
        "id": "EtbMa4cQM4X8",
        "outputId": "7dae7842-2151-4cc7-917a-83877cf81e8d"
      },
      "execution_count": 17,
      "outputs": [
        {
          "output_type": "display_data",
          "data": {
            "text/html": [
              "0.496331725766502"
            ],
            "text/markdown": "0.496331725766502",
            "text/latex": "0.496331725766502",
            "text/plain": [
              "[1] 0.4963317"
            ]
          },
          "metadata": {}
        }
      ]
    },
    {
      "cell_type": "markdown",
      "source": [
        "What is the 0.9 quantile (90th percentile) of $\\theta$? We can use the quatile function which will order the samples for us and find the appropriate sample quantile."
      ],
      "metadata": {
        "id": "QxpPfM0JM9iJ"
      }
    },
    {
      "cell_type": "code",
      "source": [
        "quantile(x=theta, probs=0.9)"
      ],
      "metadata": {
        "colab": {
          "base_uri": "https://localhost:8080/",
          "height": 34
        },
        "id": "jWlkYjQOM7ON",
        "outputId": "4f09ec10-f89c-4da1-ac58-382637fce7b1"
      },
      "execution_count": 18,
      "outputs": [
        {
          "output_type": "display_data",
          "data": {
            "text/html": [
              "<strong>90%:</strong> 11.7433775606538"
            ],
            "text/markdown": "**90%:** 11.7433775606538",
            "text/latex": "\\textbf{90\\textbackslash{}\\%:} 11.7433775606538",
            "text/plain": [
              "     90% \n",
              "11.74338 "
            ]
          },
          "metadata": {}
        }
      ]
    },
    {
      "cell_type": "code",
      "source": [
        "qgamma(p=0.9, shape=a, rate=b) # true value of 0.9 quantile"
      ],
      "metadata": {
        "colab": {
          "base_uri": "https://localhost:8080/",
          "height": 34
        },
        "id": "0jmpIZV5NYkc",
        "outputId": "402c4e2d-d7fc-45b3-cd2e-95fa9b53424f"
      },
      "execution_count": 19,
      "outputs": [
        {
          "output_type": "display_data",
          "data": {
            "text/html": [
              "11.6691605096023"
            ],
            "text/markdown": "11.6691605096023",
            "text/latex": "11.6691605096023",
            "text/plain": [
              "[1] 11.66916"
            ]
          },
          "metadata": {}
        }
      ]
    },
    {
      "cell_type": "markdown",
      "source": [
        "## Monte Carlo Error:\n",
        "\n",
        "We can use the CLT to approximate how accurate our Monte Carlo estimates are. For example, if we seek $ E[\\theta]$, then the sample mean $\\bar{\\theta}^*$ approximately follows a normal distribution with mean $E[\\theta]$ adn variance $Var[\\theta]/m$. We will use the sample standard deviation divided by the squae root of m to approximate the Monte Carlo standard deviation.\n",
        "\n"
      ],
      "metadata": {
        "id": "HdNLdqFZNbVb"
      }
    },
    {
      "cell_type": "code",
      "source": [
        "se = sd(theta) / sqrt(m)\n",
        "2.0 * se # we are reasonably confident that the Monte Carlo estimate is no more than this far from the truth"
      ],
      "metadata": {
        "colab": {
          "base_uri": "https://localhost:8080/",
          "height": 34
        },
        "id": "7nuAM-K1NaA0",
        "outputId": "6f403e25-8a68-4974-a1d5-7a19b3caa080"
      },
      "execution_count": 20,
      "outputs": [
        {
          "output_type": "display_data",
          "data": {
            "text/html": [
              "0.0849545360955675"
            ],
            "text/markdown": "0.0849545360955675",
            "text/latex": "0.0849545360955675",
            "text/plain": [
              "[1] 0.08495454"
            ]
          },
          "metadata": {}
        }
      ]
    },
    {
      "cell_type": "markdown",
      "source": [
        "These numbers give us a reasonable range for the quantity we are estimating with Monte Carlo. The same applies for other Monte Carlo estimates, like the probability that $\\theta < 5$"
      ],
      "metadata": {
        "id": "fw33A-SbOPN6"
      }
    },
    {
      "cell_type": "code",
      "source": [
        "ind = theta < 5.0\n",
        "se = sd(ind) / sqrt(m)\n",
        "2.0 * se # we are reasonably confident that the Monte Carlo estimate is no more than this far from the truth"
      ],
      "metadata": {
        "colab": {
          "base_uri": "https://localhost:8080/",
          "height": 34
        },
        "id": "P3cYv7YxOMlM",
        "outputId": "b7c82fc9-d521-43a1-9c88-6b6c7a39022b"
      },
      "execution_count": 21,
      "outputs": [
        {
          "output_type": "display_data",
          "data": {
            "text/html": [
              "0.0100003200268823"
            ],
            "text/markdown": "0.0100003200268823",
            "text/latex": "0.0100003200268823",
            "text/plain": [
              "[1] 0.01000032"
            ]
          },
          "metadata": {}
        }
      ]
    },
    {
      "cell_type": "markdown",
      "source": [
        "## Marginalization\n",
        "\n",
        "Let's also do the second example of simulating a hierarchical model. In our example from the previous segment, we had a binomial random variable where $y|\\phi \\sim Bin(10, \\phi)$ and $\\phi \\sim Beta(2,2)$. To simulate from this distibtution , repeat these steps for a large numbner m:\n",
        "1. SImulate $\\phi_i$ from Beta(2,2) distribution.\n",
        "2. Given the drawn $\\phi$, simulate $y_i$ from $Bin(10, \\phi_i)$"
      ],
      "metadata": {
        "id": "txZawaRoOY0w"
      }
    },
    {
      "cell_type": "code",
      "source": [
        "m = 10e4\n",
        "\n",
        "y = numeric(m) # create the vectors we will fill in with simulations\n",
        "phi = numeric(m)\n",
        "\n",
        "for (i in 1:m) {\n",
        "  phi[i] = rbeta(n=1, shape1=2.0, shape2=2.0)\n",
        "  y[i]   = rbinom(n=1, size=10, prob=phi[i])\n",
        "}\n",
        "\n",
        "# which is equivalent to the following 'vectorized' code\n",
        "phi = rbeta(n=m, shape1=2.0, shape2=2.0)\n",
        "y = rbinom(n=m, size=10, prob=phi)"
      ],
      "metadata": {
        "id": "rl0yvM4dO890"
      },
      "execution_count": 22,
      "outputs": []
    },
    {
      "cell_type": "markdown",
      "source": [
        "If we are interested only in the marginal distribution of y\n",
        ", we can just ignore the draws for ϕ\n",
        " and treat the draws of y\n",
        " as a sample from its marginal distribution."
      ],
      "metadata": {
        "id": "l2L6GY6GPHK8"
      }
    },
    {
      "cell_type": "code",
      "source": [
        "mean(y)"
      ],
      "metadata": {
        "colab": {
          "base_uri": "https://localhost:8080/",
          "height": 34
        },
        "id": "QTjX6fswOS_z",
        "outputId": "045eb65a-a3fd-416c-8734-ccd7bb1cbf2b"
      },
      "execution_count": 23,
      "outputs": [
        {
          "output_type": "display_data",
          "data": {
            "text/html": [
              "5.00008"
            ],
            "text/markdown": "5.00008",
            "text/latex": "5.00008",
            "text/plain": [
              "[1] 5.00008"
            ]
          },
          "metadata": {}
        }
      ]
    },
    {
      "cell_type": "code",
      "source": [
        "plot(prop.table(table(y)), ylab=\"P(y)\", main=\"Marginal distribution of y\")"
      ],
      "metadata": {
        "colab": {
          "base_uri": "https://localhost:8080/",
          "height": 437
        },
        "id": "fDlJiuaKPJMa",
        "outputId": "9b3fac2f-898a-42e2-bafb-c1aa6ea133d8"
      },
      "execution_count": 24,
      "outputs": [
        {
          "output_type": "display_data",
          "data": {
            "text/plain": [
              "Plot with title “Marginal distribution of y”"
            ],
            "image/png": "[encoded data removed]"
          },
          "metadata": {
            "image/png": {
              "width": 420,
              "height": 420
            }
          }
        }
      ]
    },
    {
      "cell_type": "code",
      "source": [],
      "metadata": {
        "id": "iWJHWeCePLDa"
      },
      "execution_count": null,
      "outputs": []
    }
  ]
}